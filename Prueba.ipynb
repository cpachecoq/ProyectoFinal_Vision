{
 "cells": [
  {
   "cell_type": "code",
   "execution_count": 9,
   "id": "d8024b09-7b64-4108-a0a9-1a389c8542a8",
   "metadata": {},
   "outputs": [
    {
     "name": "stdout",
     "output_type": "stream",
     "text": [
      "Number of HOG features: 2025\n"
     ]
    }
   ],
   "source": [
    "from skimage import io\n",
    "from skimage.transform import resize\n",
    "from skimage.feature import hog\n",
    "import numpy as np\n",
    "\n",
    "# Función para procesar la imagen nueva y obtener características HOG\n",
    "def process_new_image(image_path):\n",
    "    # Leer la imagen y convertir a escala de grises\n",
    "    image = io.imread(image_path, as_gray=True)\n",
    "    \n",
    "    # Redimensionar la imagen a 28x28 píxeles\n",
    "    image = resize(image, (28, 28), anti_aliasing=True)\n",
    "    \n",
    "    # Extraer características HOG\n",
    "    features = hog(image, orientations=9, pixels_per_cell=(4, 4), cells_per_block=(3, 3))\n",
    "    \n",
    "    return features\n",
    "\n",
    "# Ruta a la nueva imagen\n",
    "image_path = 'samples/002.png'  # Cambia esto a la ruta de tu imagen\n",
    "\n",
    "# Obtener características HOG\n",
    "features = process_new_image(image_path)\n",
    "\n",
    "# Imprimir el tamaño del vector de características HOG\n",
    "print(\"Number of HOG features:\", features.shape[0])\n"
   ]
  },
  {
   "cell_type": "code",
   "execution_count": 17,
   "id": "758bbda1-bd61-4115-9ccb-9b50368a9b32",
   "metadata": {},
   "outputs": [
    {
     "data": {
      "image/png": "[encoded data removed]",
      "text/plain": [
       "<Figure size 640x480 with 1 Axes>"
      ]
     },
     "metadata": {},
     "output_type": "display_data"
    }
   ],
   "source": [
    "from skimage import io\n",
    "from skimage.transform import resize\n",
    "from skimage.feature import hog\n",
    "import pickle\n",
    "import numpy as np\n",
    "import matplotlib.pyplot as plt\n",
    "\n",
    "# Función para procesar la imagen nueva y obtener características HOG\n",
    "def process_new_image(image_path):\n",
    "    # Leer la imagen y convertir a escala de grises\n",
    "    image = io.imread(image_path, as_gray=True)\n",
    "    \n",
    "    # Redimensionar la imagen a 28x28 píxeles\n",
    "    image = resize(image, (28, 28), anti_aliasing=True)\n",
    "    \n",
    "    # Extraer características HOG\n",
    "    features = hog(image, orientations=9, pixels_per_cell=(4, 4), cells_per_block=(3, 3))\n",
    "    \n",
    "    return image, features\n",
    "\n",
    "# Función para hacer predicciones con el modelo cargado\n",
    "def predict_digit(image_path, model_path):\n",
    "    # Procesar la imagen para extraer características HOG\n",
    "    image, features = process_new_image(image_path)\n",
    "    features = features.reshape(1, -1)  # Redimensionar el vector a (1, -1)\n",
    "    \n",
    "    # Cargar el modelo entrenado\n",
    "    model = pickle.load(open(model_path, 'rb'))\n",
    "    \n",
    "    # Realizar la predicción\n",
    "    prediction = model.predict(features)\n",
    "    \n",
    "    return image, prediction[0]\n",
    "\n",
    "# Ejemplo de uso\n",
    "image_path = 'samples/004.png'  # Ruta a la nueva imagen\n",
    "model_path = 'modelo_hog_proyectoFinal.sav'  # Ruta al modelo entrenado\n",
    "\n",
    "# Obtener la imagen y la predicción\n",
    "image, digit = predict_digit(image_path, model_path)\n",
    "\n",
    "# Mostrar la imagen y la predicción\n",
    "plt.imshow(image, cmap='gray')\n",
    "plt.title(f'Predicted digit: {digit}')\n",
    "plt.axis('off')  # Ocultar los ejes\n",
    "plt.show()\n"
   ]
  },
  {
   "cell_type": "code",
   "execution_count": null,
   "id": "32de5501-512e-436c-aba4-32bfb6461dbf",
   "metadata": {},
   "outputs": [],
   "source": []
  }
 ],
 "metadata": {
  "kernelspec": {
   "display_name": "Python 3 (ipykernel)",
   "language": "python",
   "name": "python3"
  },
  "language_info": {
   "codemirror_mode": {
    "name": "ipython",
    "version": 3
   },
   "file_extension": ".py",
   "mimetype": "text/x-python",
   "name": "python",
   "nbconvert_exporter": "python",
   "pygments_lexer": "ipython3",
   "version": "3.11.5"
  }
 },
 "nbformat": 4,
 "nbformat_minor": 5
}
